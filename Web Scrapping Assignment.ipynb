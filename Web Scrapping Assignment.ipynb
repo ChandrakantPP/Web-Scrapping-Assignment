{
 "cells": [
  {
   "cell_type": "markdown",
   "id": "75a4da0d-c374-4017-b472-48d67091f79b",
   "metadata": {},
   "source": [
    "Q1. What is Web Scraping? Why is it Used? Give three areas where Web Scraping is used to get data."
   ]
  },
  {
   "cell_type": "markdown",
   "id": "75ff4bed-780e-4d50-b5c5-f63f2608a4fa",
   "metadata": {},
   "source": [
    "Web Scraping:- Web scraping refers to the extraction of data from a website. This information is collected and then exported into a format that is more useful for the user.\n",
    "\n",
    "## why is used:-\n",
    "Web scraping is commonly used to retrieve the most updated data about properties, sale prices, monthly rental income, amenities, property agents, and other data points. \n",
    "\n",
    "## Give three areas where Web Scraping is used to get data:-\n",
    "1) Market Research\n",
    "2) Sentiment Analysis\n",
    "3) Email Marketing"
   ]
  },
  {
   "cell_type": "markdown",
   "id": "5ed03b56-27a1-4835-8e96-84f9dfc73618",
   "metadata": {},
   "source": [
    "Q2. What are the different methods used for Web Scraping?"
   ]
  },
  {
   "cell_type": "markdown",
   "id": "4c3d612d-294c-4fc6-ab6a-739b4dbe3d59",
   "metadata": {},
   "source": [
    "1) Using a web scraping software\n",
    "2) By Writing Code"
   ]
  },
  {
   "cell_type": "markdown",
   "id": "5d91d4b5-4b2b-4001-b129-9efcf23b4298",
   "metadata": {},
   "source": [
    "Q3. What is Beautiful Soup? Why is it used?"
   ]
  },
  {
   "cell_type": "markdown",
   "id": "ff507f52-f422-4487-bd82-f0514c037b1f",
   "metadata": {},
   "source": [
    "Beautiful Soup:- Beautiful Soup is a Python library that makes it easy to scrape information from web pages.\n",
    "\n",
    "## why is used:- \n",
    "The Beautiful Soup library helps with isolating titles and links from webpages. It can extract all of the text from HTML tags, and alter the HTML in the document with which we’re working."
   ]
  },
  {
   "cell_type": "markdown",
   "id": "b6b49240-ba38-48da-8066-a0fb20aa234c",
   "metadata": {},
   "source": [
    "Q4. Why is flask used in this Web Scraping project?"
   ]
  },
  {
   "cell_type": "markdown",
   "id": "ff9e6b0c-c768-43b2-abe0-d55edbc9fbf5",
   "metadata": {},
   "source": [
    "Flask is a lightweight framework to build websites. We'll use this to parse our collected data and display it as HTML in a new HTML file. The requests module allows us to send http requests to the website we want to scrape. "
   ]
  },
  {
   "cell_type": "markdown",
   "id": "6aa77754-9312-4d2d-955c-42d73aa7ab95",
   "metadata": {},
   "source": [
    "Q5. Write the names of AWS services used in this project. Also, explain the use of each service."
   ]
  },
  {
   "cell_type": "markdown",
   "id": "9f892596-c225-4c31-8bef-1a1c1c48dcaf",
   "metadata": {},
   "source": [
    "## names of AWS services used in this project:-\n",
    "1) Elastic Beanstalk\n",
    "2) CodePipeline\n",
    "\n",
    "## use of this service\n",
    "Elastic Beanstalk:- Elastic Beanstalk is a service for deploying and scaling web applications and services. \n",
    "CodePipeline:- You can easily integrate AWS CodePipeline with third-party services such as GitHub or with your own custom plugin."
   ]
  }
 ],
 "metadata": {
  "kernelspec": {
   "display_name": "Python 3 (ipykernel)",
   "language": "python",
   "name": "python3"
  },
  "language_info": {
   "codemirror_mode": {
    "name": "ipython",
    "version": 3
   },
   "file_extension": ".py",
   "mimetype": "text/x-python",
   "name": "python",
   "nbconvert_exporter": "python",
   "pygments_lexer": "ipython3",
   "version": "3.10.8"
  }
 },
 "nbformat": 4,
 "nbformat_minor": 5
}
